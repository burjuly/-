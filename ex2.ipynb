{
 "cells": [
  {
   "cell_type": "code",
   "execution_count": 4,
   "id": "expected-animal",
   "metadata": {},
   "outputs": [],
   "source": [
    "import requests\n",
    "import pandas as pd\n",
    "from bs4  import BeautifulSoup"
   ]
  },
  {
   "cell_type": "code",
   "execution_count": 5,
   "id": "sweet-integrity",
   "metadata": {},
   "outputs": [],
   "source": [
    "url = 'https://ru.wikipedia.org/wiki/%D0%9A%D0%B0%D1%82%D0%B5%D0%B3%D0%BE%D1%80%D0%B8%D1%8F:%D0%96%D0%B8%D0%B2%D0%BE%D1%82%D0%BD%D1%8B%D0%B5_%D0%BF%D0%BE_%D0%B0%D0%BB%D1%84%D0%B0%D0%B2%D0%B8%D1%82%D1%83'\n",
    "headers = {'User-Agent': 'Mozilla/5.0 (Macintosh; Intel Mac OS X 10.9; rv:45.0) Gecko/20100101 Firefox/45.0'}\n",
    "\n",
    "r = requests.get(url, headers = headers)\n",
    "soup = BeautifulSoup(r.text, 'lxml')"
   ]
  },
  {
   "cell_type": "code",
   "execution_count": 6,
   "id": "exceptional-ending",
   "metadata": {},
   "outputs": [],
   "source": [
    "data = []\n",
    "\n",
    "while 1:\n",
    "    links = soup.findAll('a')\n",
    "    \n",
    "    flag = 0\n",
    "    count = 0   \n",
    "    for l in links:\n",
    "        if l.text == 'Следующая страница':\n",
    "            url = 'https://ru.wikipedia.org/' + l.get('href')\n",
    "            r = requests.get(url, headers = headers)\n",
    "            soup = BeautifulSoup(r.text, 'lxml')\n",
    "            flag = 1\n",
    "            count += 1\n",
    "        if count == 1 and l.text != 'Следующая страница' and l.text != 'Предыдущая страница':\n",
    "            data.append(l.text)\n",
    "        else:\n",
    "            continue\n",
    "    if flag == 0:\n",
    "        break\n",
    "                "
   ]
  },
  {
   "cell_type": "code",
   "execution_count": 7,
   "id": "unique-operations",
   "metadata": {},
   "outputs": [
    {
     "data": {
      "text/plain": [
       "['А',\n",
       " 'Б',\n",
       " 'В',\n",
       " 'Г',\n",
       " 'Д',\n",
       " 'Е',\n",
       " 'Ж',\n",
       " 'З',\n",
       " 'И',\n",
       " 'Й',\n",
       " 'К',\n",
       " 'Л',\n",
       " 'М',\n",
       " 'Н',\n",
       " 'О',\n",
       " 'П',\n",
       " 'Р',\n",
       " 'С',\n",
       " 'Т',\n",
       " 'У',\n",
       " 'Ф',\n",
       " 'Х',\n",
       " 'Ц',\n",
       " 'Ч',\n",
       " 'Ш',\n",
       " 'Щ',\n",
       " 'Э',\n",
       " 'Ю']"
      ]
     },
     "execution_count": 7,
     "metadata": {},
     "output_type": "execute_result"
    }
   ],
   "source": [
    "td = soup.findAll('td')\n",
    "letters = [t.text for t in td]\n",
    "start = letters.index('А')\n",
    "end = letters.index('Я')\n",
    "letters = letters[start:end]\n",
    "letters"
   ]
  },
  {
   "cell_type": "code",
   "execution_count": 57,
   "id": "colored-supplier",
   "metadata": {},
   "outputs": [
    {
     "name": "stdout",
     "output_type": "stream",
     "text": [
      "А : 1148\n",
      "Б : 1600\n",
      "В : 515\n",
      "Г : 984\n",
      "Д : 739\n",
      "Е : 99\n",
      "Ж : 393\n",
      "З : 621\n",
      "И : 337\n",
      "Й : 3\n",
      "К : 2187\n",
      "Л : 679\n",
      "М : 1242\n",
      "Н : 451\n",
      "О : 765\n",
      "П : 1730\n",
      "Р : 556\n",
      "С : 1737\n",
      "Т : 968\n",
      "У : 242\n",
      "Ф : 189\n",
      "Х : 270\n",
      "Ц : 218\n",
      "Ч : 659\n",
      "Ш : 268\n",
      "Щ : 146\n",
      "Э : 213\n",
      "Ю : 133\n"
     ]
    }
   ],
   "source": [
    "for l in letters:\n",
    "    counter = 0\n",
    "    for d in data:\n",
    "        if d.startswith(l):\n",
    "            counter += 1\n",
    "    print(f'{l} : {counter}')"
   ]
  },
  {
   "cell_type": "code",
   "execution_count": null,
   "id": "connected-simon",
   "metadata": {},
   "outputs": [],
   "source": [
    "df = pd.DataFrame(data)\n",
    "df.to_csv('ANIMALS.csv', sep=';', encoding='utf-8')"
   ]
  },
  {
   "cell_type": "code",
   "execution_count": null,
   "id": "confident-alias",
   "metadata": {},
   "outputs": [],
   "source": []
  }
 ],
 "metadata": {
  "kernelspec": {
   "display_name": "Python 3",
   "language": "python",
   "name": "python3"
  },
  "language_info": {
   "codemirror_mode": {
    "name": "ipython",
    "version": 3
   },
   "file_extension": ".py",
   "mimetype": "text/x-python",
   "name": "python",
   "nbconvert_exporter": "python",
   "pygments_lexer": "ipython3",
   "version": "3.8.10"
  }
 },
 "nbformat": 4,
 "nbformat_minor": 5
}
